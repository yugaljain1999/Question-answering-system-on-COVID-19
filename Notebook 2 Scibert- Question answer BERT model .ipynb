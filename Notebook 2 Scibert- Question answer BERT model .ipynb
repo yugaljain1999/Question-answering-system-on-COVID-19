{
 "cells": [
  {
   "cell_type": "code",
   "execution_count": 1,
   "metadata": {},
   "outputs": [],
   "source": [
    "import scispacy\n",
    "import spacy\n",
    "import json\n",
    "import numpy as np"
   ]
  },
  {
   "cell_type": "code",
   "execution_count": 2,
   "metadata": {},
   "outputs": [],
   "source": [
    "nlp = spacy.load(\"en_core_sci_lg\") \n",
    "# TODO - Load Biobert model for medical dataset"
   ]
  },
  {
   "cell_type": "code",
   "execution_count": 32,
   "metadata": {},
   "outputs": [
    {
     "data": {
      "text/plain": [
       "['tagger', 'parser', 'ner']"
      ]
     },
     "execution_count": 32,
     "metadata": {},
     "output_type": "execute_result"
    }
   ],
   "source": [
    "nlp.pipe_names"
   ]
  },
  {
   "cell_type": "code",
   "execution_count": 3,
   "metadata": {},
   "outputs": [],
   "source": [
    "with open(\"research_papers_cleaned.json\") as file:\n",
    "    papers  = json.load(file)"
   ]
  },
  {
   "cell_type": "code",
   "execution_count": 31,
   "metadata": {},
   "outputs": [
    {
     "data": {
      "text/plain": [
       "19815"
      ]
     },
     "execution_count": 31,
     "metadata": {},
     "output_type": "execute_result"
    }
   ],
   "source": [
    "len(papers)"
   ]
  },
  {
   "cell_type": "code",
   "execution_count": 5,
   "metadata": {},
   "outputs": [],
   "source": [
    "summary = [paper[2] for paper in papers]\n",
    "abstracts = [paper[1] for paper in papers]\n",
    "headings = [paper[0] for paper in papers]"
   ]
  },
  {
   "cell_type": "code",
   "execution_count": 6,
   "metadata": {},
   "outputs": [
    {
     "data": {
      "text/plain": [
       "'Identification and Characterization of a Novel Non-Structural Protein of Bluetongue Virus'"
      ]
     },
     "execution_count": 6,
     "metadata": {},
     "output_type": "execute_result"
    }
   ],
   "source": [
    "headings[5]"
   ]
  },
  {
   "cell_type": "code",
   "execution_count": 7,
   "metadata": {},
   "outputs": [
    {
     "data": {
      "text/plain": [
       "'Bluetongue virus (BTV) is the causative agent of a major disease of livestock (bluetongue). For over two decades, it has been widely accepted that the 10 segments of the dsRNA genome of BTV encode for 7 structural and 3 non-structural proteins. The non-structural proteins (NS1, NS2, NS3/NS3a) play different key roles during the viral replication cycle. In this study we show that BTV expresses a fourth non-structural protein (that we designated NS4) encoded by an open reading frame in segment 9 overlapping the open reading frame encoding VP6. NS4 is 77-79 amino acid residues in length and highly conserved among several BTV serotypes/strains. NS4 was expressed early post-infection and localized in the nucleoli of BTV infected cells. By reverse genetics, we showed that NS4 is dispensable for BTV replication in vitro, both in mammalian and insect cells, and does not affect viral virulence in murine models of bluetongue infection. Interestingly, NS4 conferred a replication advantage to BTV-8, but not to BTV-1, in cells in an interferon (IFN)-induced antiviral state. However, the BTV-1 NS4 conferred a replication advantage both to a BTV-8 reassortant containing the entire segment 9 of BTV-1 and to a BTV-8 mutant with the NS4 identical to the homologous BTV-1 protein. Collectively, this study suggests that NS4 plays an important role in virus-host interaction and is one of the mechanisms played, at least by BTV-8, to counteract the antiviral response of the host. In addition, the distinct nucleolar localization of NS4, being expressed by a virus that replicates exclusively in the cytoplasm, offers new avenues to investigate the multiple roles played by the nucleolus in the biology of the cell.'"
      ]
     },
     "execution_count": 7,
     "metadata": {},
     "output_type": "execute_result"
    }
   ],
   "source": [
    "abstracts[5]"
   ]
  },
  {
   "cell_type": "code",
   "execution_count": 120,
   "metadata": {},
   "outputs": [],
   "source": [
    "import torch\n"
   ]
  },
  {
   "cell_type": "code",
   "execution_count": 118,
   "metadata": {},
   "outputs": [],
   "source": [
    "data = pd.read_csv('df_doc_vectors.csv')"
   ]
  },
  {
   "cell_type": "code",
   "execution_count": 12,
   "metadata": {},
   "outputs": [],
   "source": [
    "max_scores_index = scores.argsort()[-10:][::-1]"
   ]
  },
  {
   "cell_type": "code",
   "execution_count": 13,
   "metadata": {},
   "outputs": [
    {
     "data": {
      "text/plain": [
       "array([0.78404272, 0.78086513, 0.77120374, 0.77085118, 0.76827728,\n",
       "       0.76737892, 0.764756  , 0.76350952, 0.7584256 , 0.75745367])"
      ]
     },
     "execution_count": 13,
     "metadata": {},
     "output_type": "execute_result"
    }
   ],
   "source": [
    "scores[max_scores_index]"
   ]
  },
  {
   "cell_type": "code",
   "execution_count": 14,
   "metadata": {},
   "outputs": [
    {
     "name": "stdout",
     "output_type": "stream",
     "text": [
      "The human coronaviruses (CoV) include HCoV-229E, HCoV-OC43, HCoV-NL63, and HCoV-HKU1, some of which have been known for decades. The severe acute respiratory syndrome (SARS) CoV briefly emerged into the human population but was controlled. In 2012, another novel severely human pathogenic CoV-the Middle East Respiratory Syndrome (MERS)-CoV-was identified in the Kingdom of Saudi Arabia; 80% of over 2000 human cases have been recorded over five years. Targeted research remains key to developing control strategies for MERS-CoV, a cause of mild illness in its camel reservoir. A new therapeutic toolbox being developed in response to MERS is also teaching us more about how CoVs cause disease. Travel-related cases continue to challenge the world's surveillance and response capabilities, and more data are needed to understand unexplained primary transmission. Signs of genetic change have been recorded, but it remains unclear whether there is any impact on clinical disease. How camels came to carry the virus remains academic to the control of MERS. To date, human-to-human transmission has been inefficient, but virus surveillance, characterisation, and reporting are key to responding to any future change. MERS-CoV is not currently a pandemic threat; it is spread mainly with the aid of human habit and error.\n",
      "Ten years after the severe acute respiratory syndrome epidemic, a second coronavirus, the Middle East respiratory syndrome coronavirus (MERS-CoV), has been identified as the cause of a highly lethal pneumonia in patients in the Middle East and in travelers from this region. Over the past 9 months, since the virus was first isolated, much has been learned about the biology of the virus. It is now clear that MERS-CoV is transmissible from person to person, and its close relationship with several bat coronaviruses suggests that these animals may be the ultimate source of the infection. However, many key issues need to be addressed, including identification of the proximate, presumably zoonotic, source of the infection, the prevalence of the infection in human populations, details regarding clinical and pathological features of the human infection, the establishment of a small rodent model for the infection, and the virological and immune basis for the severe disease observed in most patients. Most importantly, we do not know whether a MERS-CoV epidemic is likely or not. Infection with the virus has so far resulted in only 91 cases and 46 deaths (as of 29 July 2013), but it is nonetheless setting off alarm bells among public health officials, including Margaret Chan, Director-General of the World Health Organization, who called MERS-CoV \"a threat to the entire world.\" This article reviews some of the progress that has been made and discusses some of the questions that need to be answered. Citation Perlman S. 2013. The Middle East respiratory syndrome-how worried should we be? mBio 4(4):e00531-13.\n",
      "Recently emerged Wuhan's novel coronavirus designated as SARS-CoV-2, a causative agent of coronavirus disease 2019 (COVID-19) is rapidly spreading its pathogenicity throughout the world now. More than 4000 mortalities have occurred worldwide till the writing of this article and this number is increasing every passing hour. World Health Organization (WHO) has declared it as a global public health emergency. The multiple sequence alignment data correlated with already published reports on SARS-CoV-2 indicated that it is closely related to Bat-Severe Acute Respiratory Syndrome like coronavirus (Bat CoV SARS-like) and wellstudied Human SARS. In this study, we have exploited the complementary approach to examine the intrinsically disordered regions in proteome of SARS-CoV-2 using Bat SARSlike and Human SARS CoVs as comparative models. According to our findings, SARS-CoV-2 proteome contains a significant amount of ordered proteins except Nucleocapsid, Nsp8, and ORF6. Further, cleavage sites in replicase 1ab polyprotein are found to be highly disordered. We have extensively investigated the dark proteome in SARS-CoV-2 which will have implications for the structured and unstructured biology of SARS or SARS-like coronaviruses. Significance: The infection caused by Novel Coronavirus (SARS-CoV-2) is responsible for the current pandemic that cause severe respiratory disease and pneumonia-like infection in humans. Currently, there is no such in-depth information on protein structure and function available in public domain and no effective anti-viral or vaccines are available for the treatment of this infection. Our study provides comparative order and disorder-based proteome information with Human SARS and Bat CoV that may be useful for structure-based drug discovery.\n",
      "Background: Human rhinoviruses (HRVs) are the most common cause of viral illness worldwide but today, less than half the strains have been sequenced and only a handful examined structurally. This viral super-group, known for decades, has still to face the full force of a molecular biology onslaught. However, newly identified viruses (NIVs) including human metapneumovirus and bocavirus and emergent viruses including SARS-CoV have already been exhaustively scrutinized. The clinical impact of most respiratory NIVs is attributable to one or two major strains but there are 100+ distinct HRVs and, because we have never sought them independently, we must arbitrarily divide the literature's clinical impact findings among them. Early findings from infection studies and use of inefficient detection methods have shaped the way we think of 'common cold' viruses today. Objectives: To review past HRV-related studies in order to put recent HRV discoveries into context. Results: HRV infections result in undue antibiotic prescriptions, sizable healthcare-related expenditure and exacerbation of expiratory wheezing associated with hospital admission. Conclusion: The finding of many divergent and previously unrecognized HRV strains has drawn attention and resources back to the most widespread and frequent infectious agent of humans; providing us the chance to seize the advantage in a decades-long cold war.\n",
      "The list of recently discovered gastrointestinal viruses is expanding rapidly. Whether these agents are actually involved in a disease such as diarrhea is the essential question, yet difficult to answer. In this review a summary of all viruses found in diarrhea is presented, together with the current knowledge about their connection to disease.\n",
      "The first known cases of Middle East respiratory syndrome (MERS), associated with infection by a novel coronavirus (CoV), occurred in 2012 in Jordan but were reported retrospectively. The case first to be publicly reported was from Jeddah, in the Kingdom of Saudi Arabia (KSA). Since then, MERS-CoV sequences have been found in a bat and in many dromedary camels (DC). MERS-CoV is enzootic in DC across the Arabian Peninsula and in parts of Africa, causing mild upper respiratory tract illness in its camel reservoir and sporadic, but relatively rare human infections. Precisely how virus transmits to humans remains unknown but close and lengthy exposure appears to be a requirement. The KSA is the focal point of MERS, with the majority of human cases. In humans, MERS is mostly known as a lower respiratory tract (LRT) disease involving fever, cough, breathing difficulties and pneumonia that may progress to acute respiratory distress syndrome, multiorgan failure and death in 20 % to 40 % of those infected. However, MERS-CoV has also been detected in mild and influenza-like illnesses and in those with no signs or symptoms. Older males most obviously suffer severe disease and MERS patients often have comorbidities. Compared to severe acute respiratory syndrome (SARS), another sometimes-fatal zoonotic coronavirus disease that has since disappeared, MERS progresses more rapidly to respiratory failure and acute kidney injury (it also has an affinity for growth in kidney cells under laboratory conditions), is more frequently reported in patients with underlying disease and is more often fatal. Most human cases of MERS have been linked to lapses in infection prevention and control (IPC) in healthcare settings, with approximately 20 % of all virus detections reported among healthcare workers (HCWs) and higher exposures in those with occupations that bring them into close contact with camels. Sero-surveys have found widespread evidence of past infection in adult camels and limited past exposure among humans. Sensitive, validated reverse transcriptase real-time polymerase chain reaction (RT-rtPCR)-based diagnostics have been available almost from the start of the emergence of MERS. While the basic virology of MERS-CoV has advanced over the past three years, understanding of the interplay between camel, environment, and human remains limited.\n",
      "Background: An epidemic of a Severe Acute Respiratory Syndrome (SARS) caused by a new coronavirus has spread from the Guangdong province to the rest of China and to the world, with a puzzling contagion behavior. It is important both for predicting the future of the present outbreak and for implementing effective prophylactic measures, to identify the causes of this behavior. In this report, we show first that the standard Susceptible-Infected-Removed (SIR) model cannot account for the patterns observed in various regions where the disease spread. We develop a model involving two superimposed epidemics to study the recent spread of the SARS in Hong Kong and in the region. We explore the situation where these epidemics may be caused either by a virus and one or several mutants that changed its tropism, or by two unrelated viruses. This has important consequences for the future: the innocuous epidemic might still be there and generate, from time to time, variants that would have properties similar to those of SARS. We find that, in order to reconcile the existing data and the spread of the disease, it is convenient to suggest that a first milder outbreak protected against the SARS. Regions that had not seen the first epidemic, or that were affected simultaneously with the SARS suffered much more, with a very high percentage of persons affected. We also find regions where the data appear to be inconsistent, suggesting that they are incomplete or do not reflect an appropriate identification of SARS patients. Finally, we could, within the framework of the model, fix limits to the future development of the epidemic, allowing us to identify landmarks that may be useful to set up a monitoring system to follow the evolution of the epidemic. The model also suggests that there might exist a SARS precursor in a large reservoir, prompting for implementation of precautionary measures when the weather cools down.\n",
      "The emergence of Severe Acute Respiratory Syndrome coronavirus (SARS-CoV) and Middle East Respiratory Syndrome coronavirus (MERS-CoV), two strains of animal coronaviruses that crossed the species barrier to infect and cause severe respiratory infections in humans within the last 12 years, have taught us that coronaviruses represent a global threat that does not recognize international borders. We can expect to see other novel coronaviruses emerge in the future. An ideal animal model should reflect the clinical signs, viral replication and pathology seen in humans. In this review, we present factors to consider in establishing an animal model for the study of novel coronaviruses and compare the different animal models that have been employed to study SARS-CoV and MERS-CoV.\n",
      "An acute and often severe respiratory illness emerged in southern China in late 2002 and rapidly spread to different areas of the Far East as well as several countries around the globe. When the outbreak of this apparently novel infectious disease termed severe acute respiratory syndrome (SARS) came to an end in July 2003, it had caused over 8000 probable cases worldwide and more than 700 deaths. Starting in March 2003, the World Health Organization (WHO) organised an unprecedented international effort by leading laboratories working together to find the causative agent. Little more than one week later, three research groups from this WHO-coordinated network simultaneously found evidence of a hitherto unknown coronavirus in SARS patients, using different approaches. After Koch's postulates had been fulfilled, WHO officially declared on 16 April 2003 that this virus never before seen in humans is the cause of SARS. Ever since, progress around SARS-associated coronavirus (SARS-CoV) has been swift. Within weeks of the first isolate being obtained, its complete genome was sequenced. Diagnostic tests based on the detection of SARS-CoV RNA were developed and made available freely and widely; nevertheless the SARS case definition still remains based on clinical and epidemiological criteria. The agent's environmental stability, methods suitable for inactivation and disinfection, and potential antiviral compounds have been studied, and development of vaccines and immunotherapeutics is ongoing. Despite its grave consequences in humanitarian, political and economic terms, SARS may serve as an example of how much can be achieved through a well-coordinated international approach, combining the latest technological advances of molecular virology with more \"traditional\" techniques carried out to an excellent standard.\n",
      "and occasionally lead to death. Furthermore, every few decades, respiratory virus pandemics emerge, putting the entire world population at risk. thus, there is an urgent need to quickly and precisely identify the infecting agent in a clinical setting. However, in many patients with influenza-like symptoms (ILS) the identity of the underlying pathogen remains unknown. In addition, it takes time and effort to individually identify the virus responsible for the ILS. Here, we present a new next-generation sequencing (NGS)based method that enables rapid and robust identification of pathogens in a pool of clinical samples without the need for specific primers. The method is aimed at rapidly uncovering a potentially common pathogen affecting many samples with an unidentified source of disease.\n"
     ]
    }
   ],
   "source": [
    "for index in max_scores_index:\n",
    "    print(abstracts[index])"
   ]
  },
  {
   "cell_type": "code",
   "execution_count": 15,
   "metadata": {},
   "outputs": [],
   "source": [
    "import torch\n"
   ]
  },
  {
   "cell_type": "code",
   "execution_count": 18,
   "metadata": {},
   "outputs": [],
   "source": [
    "from transformers import BertForQuestionAnswering\n",
    "\n",
    "model = BertForQuestionAnswering.from_pretrained('./scibert_scivocab_uncased/')"
   ]
  },
  {
   "cell_type": "code",
   "execution_count": 21,
   "metadata": {},
   "outputs": [],
   "source": [
    "from transformers import BertTokenizer\n",
    "\n",
    "tokenizer = BertTokenizer.from_pretrained('./scibert_scivocab_uncased/')"
   ]
  },
  {
   "cell_type": "code",
   "execution_count": 30,
   "metadata": {},
   "outputs": [
    {
     "data": {
      "text/plain": [
       "['[CLS]',\n",
       " 'corona',\n",
       " '##virus',\n",
       " 'cases',\n",
       " 'are',\n",
       " 'increasing',\n",
       " 'drastically',\n",
       " 'in',\n",
       " 'america',\n",
       " '[SEP]']"
      ]
     },
     "execution_count": 30,
     "metadata": {},
     "output_type": "execute_result"
    }
   ],
   "source": [
    "ids = tokenizer.encode('Coronavirus cases are increasing drastically in America')\n",
    "tokens= tokenizer.convert_ids_to_tokens(ids)\n",
    "tokens \n",
    "# so Berttokenizer can take one or two arguments as an input string like in our case it is taking question and answer_text\n",
    "# as an input and returing tokens of combined input, so to separate both pair of strings we use sep_ids which separate both by\n",
    "# ['SEP'] token where left one is question and right one is answer\n",
    "# then we create array of num_of_Seg_a*0 + num_of_Seg_b*1 where num_of_seg_a = seg_index+1 and num_of_Seg_b = len(array)-num_of_seg_a\n",
    "# then pass two inputs in model first is input_ids and second is seg_ids = num_of_Seg_a*[0]+num_of_seg_b*[1]\n",
    "# then we will get start_score and end_score where token[start_score] will give first token of answer and remaining tokens of answer\n",
    "# can be retrieved easily where indexes varies from start_score+1.......end_score, then check whether there is '##' or not, if \n",
    "# two hashes occur before any token then combine text after '##' with previous token as '##' indicates combination of two tokens,\n",
    "# else add tokens direct into answer and print it.\n",
    "\n",
    "# in function pass question and abstract of max_score(remember max_score doesn't always give right answer may be top 2nd or 3rd\n",
    "# index may give right answer)\n",
    "# Thankyou"
   ]
  },
  {
   "cell_type": "code",
   "execution_count": 69,
   "metadata": {},
   "outputs": [],
   "source": [
    "def answer_question(question, answer_text):\n",
    "    '''\n",
    "    Takes a `question` string and an `answer_text` string (which contains the\n",
    "    answer), and identifies the words within the `answer_text` that are the\n",
    "    answer. Prints them out.\n",
    "    '''\n",
    "    \n",
    "    \n",
    "    # ======== Tokenize ========\n",
    "    # Apply the tokenizer to the input text, treating them as a text-pair.\n",
    "    input_ids = tokenizer.encode(question, answer_text) # encode returns the id's associated with input question while finding\n",
    "                                                        # answer in document(abstract cleaned summary)\n",
    "\n",
    "    # Report how long the input sequence is.\n",
    "    print('Query has {:,} tokens.\\n'.format(len(input_ids)))\n",
    "\n",
    "    # ======== Set Segment IDs ========\n",
    "    # Search the input_ids for the first instance of the `[SEP]` token.\n",
    "    sep_index = input_ids.index(tokenizer.sep_token_id) # sep_token_id is used to separate answer and query(question) in document\n",
    "    print('sep_index',sep_index)\n",
    "    # The number of segment A tokens includes the [SEP] token istelf.\n",
    "    num_seg_a = sep_index +1\n",
    "\n",
    "    # The remainder are segment B.\n",
    "    num_seg_b = len(input_ids) - num_seg_a\n",
    "\n",
    "    # Construct the list of 0s and 1s.\n",
    "    segment_ids = [0]*num_seg_a + [1]*num_seg_b\n",
    "    print('num_seg_a',num_seg_a,'num_seg_b',num_seg_b,'segment_ids',segment_ids)\n",
    "    print('length_input_ids',len(input_ids),'length of segment_ids',len(segment_ids))\n",
    "    # There should be a segment_id for every input token.\n",
    "    assert len(segment_ids) == len(input_ids)\n",
    "\n",
    "    # ======== Evaluate ========\n",
    "    # Run our example question through the model.\n",
    "    start_scores, end_scores = model(torch.tensor([input_ids]), # The tokens representing our input text.\n",
    "                                    token_type_ids=torch.tensor([segment_ids])) # The segment IDs to differentiate question from answer_text\n",
    "\n",
    "    # ======== Reconstruct Answer ========\n",
    "    # Find the tokens with the highest `start` and `end` scores.\n",
    "    answer_start = torch.argmax(start_scores)\n",
    "    answer_end = torch.argmax(end_scores)\n",
    "    print('answer_start',answer_start,'answer_end',answer_end)\n",
    "    # Get the string versions of the input tokens.\n",
    "    tokens = tokenizer.convert_ids_to_tokens(input_ids)\n",
    "    print('tokens',tokens)\n",
    "    # Start with the first token.\n",
    "    answer = tokens[answer_start]\n",
    "    print('first_token_of_answer',answer)\n",
    "    # Select the remaining answer tokens and join them with whitespace.\n",
    "    for i in range(answer_start + 1, answer_end + 1):\n",
    "        \n",
    "        # If it's a subword token, then recombine it with the previous token.\n",
    "        if tokens[i][0:2] == '##':\n",
    "            answer += tokens[i][2:]\n",
    "        \n",
    "        # Otherwise, add a space then the token.\n",
    "        else:\n",
    "            answer += ' ' + tokens[i]\n",
    "            print('anwer_tokens',answer)\n",
    "\n",
    "    print('Answer: \"' + answer + '\"')"
   ]
  },
  {
   "cell_type": "code",
   "execution_count": 99,
   "metadata": {},
   "outputs": [],
   "source": [
    "import pandas as pd\n",
    "# loading top 10 best_docs csv file\n",
    "top_10_docs = pd.read_csv('best_docs_diff.csv')\n",
    "top_docs=top_10_docs['best_docs_diff']"
   ]
  },
  {
   "cell_type": "code",
   "execution_count": 114,
   "metadata": {
    "scrolled": true
   },
   "outputs": [
    {
     "name": "stdout",
     "output_type": "stream",
     "text": [
      "Query has 182 tokens.\n",
      "\n",
      "sep_index 6\n",
      "num_seg_a 7 num_seg_b 175 segment_ids [0, 0, 0, 0, 0, 0, 0, 1, 1, 1, 1, 1, 1, 1, 1, 1, 1, 1, 1, 1, 1, 1, 1, 1, 1, 1, 1, 1, 1, 1, 1, 1, 1, 1, 1, 1, 1, 1, 1, 1, 1, 1, 1, 1, 1, 1, 1, 1, 1, 1, 1, 1, 1, 1, 1, 1, 1, 1, 1, 1, 1, 1, 1, 1, 1, 1, 1, 1, 1, 1, 1, 1, 1, 1, 1, 1, 1, 1, 1, 1, 1, 1, 1, 1, 1, 1, 1, 1, 1, 1, 1, 1, 1, 1, 1, 1, 1, 1, 1, 1, 1, 1, 1, 1, 1, 1, 1, 1, 1, 1, 1, 1, 1, 1, 1, 1, 1, 1, 1, 1, 1, 1, 1, 1, 1, 1, 1, 1, 1, 1, 1, 1, 1, 1, 1, 1, 1, 1, 1, 1, 1, 1, 1, 1, 1, 1, 1, 1, 1, 1, 1, 1, 1, 1, 1, 1, 1, 1, 1, 1, 1, 1, 1, 1, 1, 1, 1, 1, 1, 1, 1, 1, 1, 1, 1, 1, 1, 1, 1, 1, 1, 1]\n",
      "length_input_ids 182 length of segment_ids 182\n",
      "answer_start tensor(50) answer_end tensor(135)\n",
      "tokens ['[CLS]', 'what', 'is', 'corona', '##virus', '?', '[SEP]', 'migration', 'has', 'deep', 'historical', 'roots', 'in', 'south', 'and', 'southern', 'africa', 'and', 'to', 'this', 'day', 'continues', 'to', 'be', 'highly', 'prevalent', 'and', 'a', 'major', 'factor', 'shaping', 'south', 'african', 'society', 'and', 'health', '.', 'in', 'this', 'paper', 'we', 'examine', 'the', 'role', 'of', 'migration', 'in', 'the', 'spread', 'of', 'two', 'diseases', 'nearly', '100', 'years', 'apart', ':', 'tuberculosis', 'following', 'the', 'discovery', 'of', 'gold', 'in', '188', '##6', 'and', 'hiv', 'in', 'the', 'early', '1990', '##s', '.', 'both', 'cases', 'demonstrate', 'the', 'critical', 'role', 'played', 'by', 'human', 'migration', 'in', 'the', 'transmission', 'and', 'subsequent', 'dissemination', 'of', 'these', 'diseases', 'to', 'rural', 'areas', '.', 'in', 'both', 'cases', ',', 'migration', 'acts', 'to', 'assemble', 'in', 'one', 'high', '-', 'risk', 'environment', 'thousands', 'of', 'young', 'men', 'highly', 'susceptible', 'to', 'new', 'diseases', '.', 'with', 'poor', 'living', 'and', 'working', 'conditions', ',', 'these', 'migration', 'destinations', 'act', 'as', 'hot', '-', 'spots', 'for', 'disease', 'transmission', '.', 'migration', 'of', 'workers', 'back', 'to', 'rural', 'areas', 'then', 'serves', 'as', 'a', 'highly', 'efficient', 'means', 'of', 'dissem', '##inating', 'these', 'diseases', 'to', 'rural', 'populations', '.', 'we', 'conclude', 'by', 'raising', 'some', 'more', 'recent', 'questions', 'examining', 'the', 'current', 'role', 'of', 'migration', 'in', 'southern', 'africa', '.', '[SEP]']\n",
      "first_token_of_answer two\n",
      "anwer_tokens two diseases\n",
      "anwer_tokens two diseases nearly\n",
      "anwer_tokens two diseases nearly 100\n",
      "anwer_tokens two diseases nearly 100 years\n",
      "anwer_tokens two diseases nearly 100 years apart\n",
      "anwer_tokens two diseases nearly 100 years apart :\n",
      "anwer_tokens two diseases nearly 100 years apart : tuberculosis\n",
      "anwer_tokens two diseases nearly 100 years apart : tuberculosis following\n",
      "anwer_tokens two diseases nearly 100 years apart : tuberculosis following the\n",
      "anwer_tokens two diseases nearly 100 years apart : tuberculosis following the discovery\n",
      "anwer_tokens two diseases nearly 100 years apart : tuberculosis following the discovery of\n",
      "anwer_tokens two diseases nearly 100 years apart : tuberculosis following the discovery of gold\n",
      "anwer_tokens two diseases nearly 100 years apart : tuberculosis following the discovery of gold in\n",
      "anwer_tokens two diseases nearly 100 years apart : tuberculosis following the discovery of gold in 188\n",
      "anwer_tokens two diseases nearly 100 years apart : tuberculosis following the discovery of gold in 1886 and\n",
      "anwer_tokens two diseases nearly 100 years apart : tuberculosis following the discovery of gold in 1886 and hiv\n",
      "anwer_tokens two diseases nearly 100 years apart : tuberculosis following the discovery of gold in 1886 and hiv in\n",
      "anwer_tokens two diseases nearly 100 years apart : tuberculosis following the discovery of gold in 1886 and hiv in the\n",
      "anwer_tokens two diseases nearly 100 years apart : tuberculosis following the discovery of gold in 1886 and hiv in the early\n",
      "anwer_tokens two diseases nearly 100 years apart : tuberculosis following the discovery of gold in 1886 and hiv in the early 1990\n",
      "anwer_tokens two diseases nearly 100 years apart : tuberculosis following the discovery of gold in 1886 and hiv in the early 1990s .\n",
      "anwer_tokens two diseases nearly 100 years apart : tuberculosis following the discovery of gold in 1886 and hiv in the early 1990s . both\n",
      "anwer_tokens two diseases nearly 100 years apart : tuberculosis following the discovery of gold in 1886 and hiv in the early 1990s . both cases\n",
      "anwer_tokens two diseases nearly 100 years apart : tuberculosis following the discovery of gold in 1886 and hiv in the early 1990s . both cases demonstrate\n",
      "anwer_tokens two diseases nearly 100 years apart : tuberculosis following the discovery of gold in 1886 and hiv in the early 1990s . both cases demonstrate the\n",
      "anwer_tokens two diseases nearly 100 years apart : tuberculosis following the discovery of gold in 1886 and hiv in the early 1990s . both cases demonstrate the critical\n",
      "anwer_tokens two diseases nearly 100 years apart : tuberculosis following the discovery of gold in 1886 and hiv in the early 1990s . both cases demonstrate the critical role\n",
      "anwer_tokens two diseases nearly 100 years apart : tuberculosis following the discovery of gold in 1886 and hiv in the early 1990s . both cases demonstrate the critical role played\n",
      "anwer_tokens two diseases nearly 100 years apart : tuberculosis following the discovery of gold in 1886 and hiv in the early 1990s . both cases demonstrate the critical role played by\n",
      "anwer_tokens two diseases nearly 100 years apart : tuberculosis following the discovery of gold in 1886 and hiv in the early 1990s . both cases demonstrate the critical role played by human\n",
      "anwer_tokens two diseases nearly 100 years apart : tuberculosis following the discovery of gold in 1886 and hiv in the early 1990s . both cases demonstrate the critical role played by human migration\n",
      "anwer_tokens two diseases nearly 100 years apart : tuberculosis following the discovery of gold in 1886 and hiv in the early 1990s . both cases demonstrate the critical role played by human migration in\n",
      "anwer_tokens two diseases nearly 100 years apart : tuberculosis following the discovery of gold in 1886 and hiv in the early 1990s . both cases demonstrate the critical role played by human migration in the\n",
      "anwer_tokens two diseases nearly 100 years apart : tuberculosis following the discovery of gold in 1886 and hiv in the early 1990s . both cases demonstrate the critical role played by human migration in the transmission\n",
      "anwer_tokens two diseases nearly 100 years apart : tuberculosis following the discovery of gold in 1886 and hiv in the early 1990s . both cases demonstrate the critical role played by human migration in the transmission and\n",
      "anwer_tokens two diseases nearly 100 years apart : tuberculosis following the discovery of gold in 1886 and hiv in the early 1990s . both cases demonstrate the critical role played by human migration in the transmission and subsequent\n",
      "anwer_tokens two diseases nearly 100 years apart : tuberculosis following the discovery of gold in 1886 and hiv in the early 1990s . both cases demonstrate the critical role played by human migration in the transmission and subsequent dissemination\n",
      "anwer_tokens two diseases nearly 100 years apart : tuberculosis following the discovery of gold in 1886 and hiv in the early 1990s . both cases demonstrate the critical role played by human migration in the transmission and subsequent dissemination of\n",
      "anwer_tokens two diseases nearly 100 years apart : tuberculosis following the discovery of gold in 1886 and hiv in the early 1990s . both cases demonstrate the critical role played by human migration in the transmission and subsequent dissemination of these\n",
      "anwer_tokens two diseases nearly 100 years apart : tuberculosis following the discovery of gold in 1886 and hiv in the early 1990s . both cases demonstrate the critical role played by human migration in the transmission and subsequent dissemination of these diseases\n",
      "anwer_tokens two diseases nearly 100 years apart : tuberculosis following the discovery of gold in 1886 and hiv in the early 1990s . both cases demonstrate the critical role played by human migration in the transmission and subsequent dissemination of these diseases to\n",
      "anwer_tokens two diseases nearly 100 years apart : tuberculosis following the discovery of gold in 1886 and hiv in the early 1990s . both cases demonstrate the critical role played by human migration in the transmission and subsequent dissemination of these diseases to rural\n",
      "anwer_tokens two diseases nearly 100 years apart : tuberculosis following the discovery of gold in 1886 and hiv in the early 1990s . both cases demonstrate the critical role played by human migration in the transmission and subsequent dissemination of these diseases to rural areas\n",
      "anwer_tokens two diseases nearly 100 years apart : tuberculosis following the discovery of gold in 1886 and hiv in the early 1990s . both cases demonstrate the critical role played by human migration in the transmission and subsequent dissemination of these diseases to rural areas .\n",
      "anwer_tokens two diseases nearly 100 years apart : tuberculosis following the discovery of gold in 1886 and hiv in the early 1990s . both cases demonstrate the critical role played by human migration in the transmission and subsequent dissemination of these diseases to rural areas . in\n",
      "anwer_tokens two diseases nearly 100 years apart : tuberculosis following the discovery of gold in 1886 and hiv in the early 1990s . both cases demonstrate the critical role played by human migration in the transmission and subsequent dissemination of these diseases to rural areas . in both\n",
      "anwer_tokens two diseases nearly 100 years apart : tuberculosis following the discovery of gold in 1886 and hiv in the early 1990s . both cases demonstrate the critical role played by human migration in the transmission and subsequent dissemination of these diseases to rural areas . in both cases\n",
      "anwer_tokens two diseases nearly 100 years apart : tuberculosis following the discovery of gold in 1886 and hiv in the early 1990s . both cases demonstrate the critical role played by human migration in the transmission and subsequent dissemination of these diseases to rural areas . in both cases ,\n",
      "anwer_tokens two diseases nearly 100 years apart : tuberculosis following the discovery of gold in 1886 and hiv in the early 1990s . both cases demonstrate the critical role played by human migration in the transmission and subsequent dissemination of these diseases to rural areas . in both cases , migration\n",
      "anwer_tokens two diseases nearly 100 years apart : tuberculosis following the discovery of gold in 1886 and hiv in the early 1990s . both cases demonstrate the critical role played by human migration in the transmission and subsequent dissemination of these diseases to rural areas . in both cases , migration acts\n",
      "anwer_tokens two diseases nearly 100 years apart : tuberculosis following the discovery of gold in 1886 and hiv in the early 1990s . both cases demonstrate the critical role played by human migration in the transmission and subsequent dissemination of these diseases to rural areas . in both cases , migration acts to\n",
      "anwer_tokens two diseases nearly 100 years apart : tuberculosis following the discovery of gold in 1886 and hiv in the early 1990s . both cases demonstrate the critical role played by human migration in the transmission and subsequent dissemination of these diseases to rural areas . in both cases , migration acts to assemble\n",
      "anwer_tokens two diseases nearly 100 years apart : tuberculosis following the discovery of gold in 1886 and hiv in the early 1990s . both cases demonstrate the critical role played by human migration in the transmission and subsequent dissemination of these diseases to rural areas . in both cases , migration acts to assemble in\n",
      "anwer_tokens two diseases nearly 100 years apart : tuberculosis following the discovery of gold in 1886 and hiv in the early 1990s . both cases demonstrate the critical role played by human migration in the transmission and subsequent dissemination of these diseases to rural areas . in both cases , migration acts to assemble in one\n",
      "anwer_tokens two diseases nearly 100 years apart : tuberculosis following the discovery of gold in 1886 and hiv in the early 1990s . both cases demonstrate the critical role played by human migration in the transmission and subsequent dissemination of these diseases to rural areas . in both cases , migration acts to assemble in one high\n",
      "anwer_tokens two diseases nearly 100 years apart : tuberculosis following the discovery of gold in 1886 and hiv in the early 1990s . both cases demonstrate the critical role played by human migration in the transmission and subsequent dissemination of these diseases to rural areas . in both cases , migration acts to assemble in one high -\n",
      "anwer_tokens two diseases nearly 100 years apart : tuberculosis following the discovery of gold in 1886 and hiv in the early 1990s . both cases demonstrate the critical role played by human migration in the transmission and subsequent dissemination of these diseases to rural areas . in both cases , migration acts to assemble in one high - risk\n",
      "anwer_tokens two diseases nearly 100 years apart : tuberculosis following the discovery of gold in 1886 and hiv in the early 1990s . both cases demonstrate the critical role played by human migration in the transmission and subsequent dissemination of these diseases to rural areas . in both cases , migration acts to assemble in one high - risk environment\n",
      "anwer_tokens two diseases nearly 100 years apart : tuberculosis following the discovery of gold in 1886 and hiv in the early 1990s . both cases demonstrate the critical role played by human migration in the transmission and subsequent dissemination of these diseases to rural areas . in both cases , migration acts to assemble in one high - risk environment thousands\n",
      "anwer_tokens two diseases nearly 100 years apart : tuberculosis following the discovery of gold in 1886 and hiv in the early 1990s . both cases demonstrate the critical role played by human migration in the transmission and subsequent dissemination of these diseases to rural areas . in both cases , migration acts to assemble in one high - risk environment thousands of\n",
      "anwer_tokens two diseases nearly 100 years apart : tuberculosis following the discovery of gold in 1886 and hiv in the early 1990s . both cases demonstrate the critical role played by human migration in the transmission and subsequent dissemination of these diseases to rural areas . in both cases , migration acts to assemble in one high - risk environment thousands of young\n",
      "anwer_tokens two diseases nearly 100 years apart : tuberculosis following the discovery of gold in 1886 and hiv in the early 1990s . both cases demonstrate the critical role played by human migration in the transmission and subsequent dissemination of these diseases to rural areas . in both cases , migration acts to assemble in one high - risk environment thousands of young men\n",
      "anwer_tokens two diseases nearly 100 years apart : tuberculosis following the discovery of gold in 1886 and hiv in the early 1990s . both cases demonstrate the critical role played by human migration in the transmission and subsequent dissemination of these diseases to rural areas . in both cases , migration acts to assemble in one high - risk environment thousands of young men highly\n",
      "anwer_tokens two diseases nearly 100 years apart : tuberculosis following the discovery of gold in 1886 and hiv in the early 1990s . both cases demonstrate the critical role played by human migration in the transmission and subsequent dissemination of these diseases to rural areas . in both cases , migration acts to assemble in one high - risk environment thousands of young men highly susceptible\n",
      "anwer_tokens two diseases nearly 100 years apart : tuberculosis following the discovery of gold in 1886 and hiv in the early 1990s . both cases demonstrate the critical role played by human migration in the transmission and subsequent dissemination of these diseases to rural areas . in both cases , migration acts to assemble in one high - risk environment thousands of young men highly susceptible to\n",
      "anwer_tokens two diseases nearly 100 years apart : tuberculosis following the discovery of gold in 1886 and hiv in the early 1990s . both cases demonstrate the critical role played by human migration in the transmission and subsequent dissemination of these diseases to rural areas . in both cases , migration acts to assemble in one high - risk environment thousands of young men highly susceptible to new\n",
      "anwer_tokens two diseases nearly 100 years apart : tuberculosis following the discovery of gold in 1886 and hiv in the early 1990s . both cases demonstrate the critical role played by human migration in the transmission and subsequent dissemination of these diseases to rural areas . in both cases , migration acts to assemble in one high - risk environment thousands of young men highly susceptible to new diseases\n",
      "anwer_tokens two diseases nearly 100 years apart : tuberculosis following the discovery of gold in 1886 and hiv in the early 1990s . both cases demonstrate the critical role played by human migration in the transmission and subsequent dissemination of these diseases to rural areas . in both cases , migration acts to assemble in one high - risk environment thousands of young men highly susceptible to new diseases .\n",
      "anwer_tokens two diseases nearly 100 years apart : tuberculosis following the discovery of gold in 1886 and hiv in the early 1990s . both cases demonstrate the critical role played by human migration in the transmission and subsequent dissemination of these diseases to rural areas . in both cases , migration acts to assemble in one high - risk environment thousands of young men highly susceptible to new diseases . with\n",
      "anwer_tokens two diseases nearly 100 years apart : tuberculosis following the discovery of gold in 1886 and hiv in the early 1990s . both cases demonstrate the critical role played by human migration in the transmission and subsequent dissemination of these diseases to rural areas . in both cases , migration acts to assemble in one high - risk environment thousands of young men highly susceptible to new diseases . with poor\n",
      "anwer_tokens two diseases nearly 100 years apart : tuberculosis following the discovery of gold in 1886 and hiv in the early 1990s . both cases demonstrate the critical role played by human migration in the transmission and subsequent dissemination of these diseases to rural areas . in both cases , migration acts to assemble in one high - risk environment thousands of young men highly susceptible to new diseases . with poor living\n",
      "anwer_tokens two diseases nearly 100 years apart : tuberculosis following the discovery of gold in 1886 and hiv in the early 1990s . both cases demonstrate the critical role played by human migration in the transmission and subsequent dissemination of these diseases to rural areas . in both cases , migration acts to assemble in one high - risk environment thousands of young men highly susceptible to new diseases . with poor living and\n",
      "anwer_tokens two diseases nearly 100 years apart : tuberculosis following the discovery of gold in 1886 and hiv in the early 1990s . both cases demonstrate the critical role played by human migration in the transmission and subsequent dissemination of these diseases to rural areas . in both cases , migration acts to assemble in one high - risk environment thousands of young men highly susceptible to new diseases . with poor living and working\n",
      "anwer_tokens two diseases nearly 100 years apart : tuberculosis following the discovery of gold in 1886 and hiv in the early 1990s . both cases demonstrate the critical role played by human migration in the transmission and subsequent dissemination of these diseases to rural areas . in both cases , migration acts to assemble in one high - risk environment thousands of young men highly susceptible to new diseases . with poor living and working conditions\n",
      "anwer_tokens two diseases nearly 100 years apart : tuberculosis following the discovery of gold in 1886 and hiv in the early 1990s . both cases demonstrate the critical role played by human migration in the transmission and subsequent dissemination of these diseases to rural areas . in both cases , migration acts to assemble in one high - risk environment thousands of young men highly susceptible to new diseases . with poor living and working conditions ,\n",
      "anwer_tokens two diseases nearly 100 years apart : tuberculosis following the discovery of gold in 1886 and hiv in the early 1990s . both cases demonstrate the critical role played by human migration in the transmission and subsequent dissemination of these diseases to rural areas . in both cases , migration acts to assemble in one high - risk environment thousands of young men highly susceptible to new diseases . with poor living and working conditions , these\n",
      "anwer_tokens two diseases nearly 100 years apart : tuberculosis following the discovery of gold in 1886 and hiv in the early 1990s . both cases demonstrate the critical role played by human migration in the transmission and subsequent dissemination of these diseases to rural areas . in both cases , migration acts to assemble in one high - risk environment thousands of young men highly susceptible to new diseases . with poor living and working conditions , these migration\n",
      "anwer_tokens two diseases nearly 100 years apart : tuberculosis following the discovery of gold in 1886 and hiv in the early 1990s . both cases demonstrate the critical role played by human migration in the transmission and subsequent dissemination of these diseases to rural areas . in both cases , migration acts to assemble in one high - risk environment thousands of young men highly susceptible to new diseases . with poor living and working conditions , these migration destinations\n",
      "anwer_tokens two diseases nearly 100 years apart : tuberculosis following the discovery of gold in 1886 and hiv in the early 1990s . both cases demonstrate the critical role played by human migration in the transmission and subsequent dissemination of these diseases to rural areas . in both cases , migration acts to assemble in one high - risk environment thousands of young men highly susceptible to new diseases . with poor living and working conditions , these migration destinations act\n",
      "anwer_tokens two diseases nearly 100 years apart : tuberculosis following the discovery of gold in 1886 and hiv in the early 1990s . both cases demonstrate the critical role played by human migration in the transmission and subsequent dissemination of these diseases to rural areas . in both cases , migration acts to assemble in one high - risk environment thousands of young men highly susceptible to new diseases . with poor living and working conditions , these migration destinations act as\n",
      "anwer_tokens two diseases nearly 100 years apart : tuberculosis following the discovery of gold in 1886 and hiv in the early 1990s . both cases demonstrate the critical role played by human migration in the transmission and subsequent dissemination of these diseases to rural areas . in both cases , migration acts to assemble in one high - risk environment thousands of young men highly susceptible to new diseases . with poor living and working conditions , these migration destinations act as hot\n",
      "anwer_tokens two diseases nearly 100 years apart : tuberculosis following the discovery of gold in 1886 and hiv in the early 1990s . both cases demonstrate the critical role played by human migration in the transmission and subsequent dissemination of these diseases to rural areas . in both cases , migration acts to assemble in one high - risk environment thousands of young men highly susceptible to new diseases . with poor living and working conditions , these migration destinations act as hot -\n",
      "anwer_tokens two diseases nearly 100 years apart : tuberculosis following the discovery of gold in 1886 and hiv in the early 1990s . both cases demonstrate the critical role played by human migration in the transmission and subsequent dissemination of these diseases to rural areas . in both cases , migration acts to assemble in one high - risk environment thousands of young men highly susceptible to new diseases . with poor living and working conditions , these migration destinations act as hot - spots\n",
      "Answer: \"two diseases nearly 100 years apart : tuberculosis following the discovery of gold in 1886 and hiv in the early 1990s . both cases demonstrate the critical role played by human migration in the transmission and subsequent dissemination of these diseases to rural areas . in both cases , migration acts to assemble in one high - risk environment thousands of young men highly susceptible to new diseases . with poor living and working conditions , these migration destinations act as hot - spots\"\n"
     ]
    }
   ],
   "source": [
    "question = \"what is coronavirus?\"\n",
    "answer_question(question, top_docs[0]) # here top_docs represents answer_text from which we have to find a relevant answer."
   ]
  }
 ],
 "metadata": {
  "kernelspec": {
   "display_name": "Python 3",
   "language": "python",
   "name": "python3"
  },
  "language_info": {
   "codemirror_mode": {
    "name": "ipython",
    "version": 3
   },
   "file_extension": ".py",
   "mimetype": "text/x-python",
   "name": "python",
   "nbconvert_exporter": "python",
   "pygments_lexer": "ipython3",
   "version": "3.7.4"
  }
 },
 "nbformat": 4,
 "nbformat_minor": 4
}
